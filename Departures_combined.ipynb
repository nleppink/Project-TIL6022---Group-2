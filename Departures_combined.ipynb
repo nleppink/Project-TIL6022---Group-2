{
 "cells": [
  {
   "cell_type": "code",
   "execution_count": 8,
   "metadata": {},
   "outputs": [],
   "source": [
    "import pandas as pd\n",
    "departures = pd.read_csv('departures.csv')\n",
    "weather_JFK = pd.read_csv('modified_weather_JFK.csv')\n",
    "\n",
    "departures = departures.drop(['sched_dep_time (modified).1','sched_arr_time (modified).1'], axis =1)\n",
    "departures['actual_delay'] = departures['dep_delay'] + departures['arr_delay']\n",
    "departures['sched_dep_datetime (mod)'] = pd.to_datetime(departures['date'] + ' ' + departures['sched_dep_time (modified)'])\n",
    "\n",
    "departures = departures[ ['sched_dep_datetime (mod)'] + [ col for col in departures.columns if col != 'sched_dep_datetime (mod)' ] ]\n",
    "departures = departures.drop(['date', 'sched_dep_time (modified)', 'sched_arr_time (modified)', 'arr_time', 'sched_arr_time', 'arr_delay', 'tailnum', 'air_time'], axis =1)\n",
    "arrivals['sched_dep_datetime (mod)'] = pd.to_datetime(departures['sched_dep_datetime (mod)'])\n",
    "\n",
    "weather_JFK['valid'] = pd.to_datetime(weather_JFK['valid'])\n",
    "merged_df = pd.merge(departures, weather_JFK, left_on ='sched_dep_datetime (mod)', right_on = 'valid', how ='left')\n",
    "merged_df = merged_df.drop('valid', axis=1)"
   ]
  },
  {
   "cell_type": "code",
   "execution_count": 10,
   "metadata": {},
   "outputs": [],
   "source": [
    "merged_df.to_csv('Departures_weather_combined.csv')"
   ]
  },
  {
   "cell_type": "code",
   "execution_count": 6,
   "metadata": {},
   "outputs": [],
   "source": []
  },
  {
   "cell_type": "code",
   "execution_count": null,
   "metadata": {},
   "outputs": [],
   "source": []
  }
 ],
 "metadata": {
  "kernelspec": {
   "display_name": "TIL6022",
   "language": "python",
   "name": "python3"
  },
  "language_info": {
   "codemirror_mode": {
    "name": "ipython",
    "version": 3
   },
   "file_extension": ".py",
   "mimetype": "text/x-python",
   "name": "python",
   "nbconvert_exporter": "python",
   "pygments_lexer": "ipython3",
   "version": "3.12.5"
  }
 },
 "nbformat": 4,
 "nbformat_minor": 2
}
