{
 "cells": [
  {
   "cell_type": "code",
   "execution_count": 11,
   "metadata": {},
   "outputs": [],
   "source": [
    "import pandas as pd\n",
    "arrivals = pd.read_csv('arrivals.csv')\n",
    "weather_LAX = pd.read_csv('modified_weather_LAX.csv')\n",
    "\n",
    "arrivals = arrivals.drop(['sched_dep_time (modified).1','sched_arr_time (modified).1'], axis =1)\n",
    "arrivals['actual_delay'] = arrivals['dep_delay'] + arrivals['arr_delay']\n",
    "arrivals['sched_arr_datetime (mod)'] = pd.to_datetime(arrivals['date'] + ' ' + arrivals['sched_arr_time (modified)'])\n",
    "arrivals = arrivals[ ['sched_arr_datetime (mod)'] + [ col for col in arrivals.columns if col != 'sched_arr_datetime (mod)' ] ]\n",
    "arrivals = arrivals.drop(['date', 'sched_dep_time (modified)', 'sched_arr_time (modified)', 'dep_time', 'sched_dep_time', 'dep_delay', 'tailnum', 'air_time'], axis =1)\n",
    "arrivals['sched_arr_datetime (mod)'] = pd.to_datetime(arrivals['sched_arr_datetime (mod)'])\n",
    "weather_LAX['valid'] = pd.to_datetime(weather_LAX['valid'])\n",
    "merged_df = pd.merge(arrivals, weather_LAX, left_on ='sched_arr_datetime (mod)', right_on = 'valid', how ='left')\n",
    "merged_df = merged_df.drop('valid', axis=1)"
   ]
  },
  {
   "cell_type": "code",
   "execution_count": 14,
   "metadata": {},
   "outputs": [],
   "source": [
    "merged_df.head()\n",
    "\n",
    "merged_df.to_csv('Arrival_weather_combined.csv')"
   ]
  },
  {
   "cell_type": "code",
   "execution_count": null,
   "metadata": {},
   "outputs": [],
   "source": []
  }
 ],
 "metadata": {
  "kernelspec": {
   "display_name": "TIL6022",
   "language": "python",
   "name": "python3"
  },
  "language_info": {
   "codemirror_mode": {
    "name": "ipython",
    "version": 3
   },
   "file_extension": ".py",
   "mimetype": "text/x-python",
   "name": "python",
   "nbconvert_exporter": "python",
   "pygments_lexer": "ipython3",
   "version": "3.12.5"
  }
 },
 "nbformat": 4,
 "nbformat_minor": 2
}
