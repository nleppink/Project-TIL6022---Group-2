{
 "cells": [
  {
   "cell_type": "code",
   "execution_count": 43,
   "metadata": {},
   "outputs": [
    {
     "data": {
      "text/plain": [
       "Index(['id', 'year', 'month', 'day', 'dep_time', 'sched_dep_time', 'dep_delay',\n",
       "       'arr_time', 'sched_arr_time', 'arr_delay', 'carrier', 'flight',\n",
       "       'tailnum', 'origin', 'dest', 'air_time', 'distance', 'hour', 'minute',\n",
       "       'time_hour', 'name'],\n",
       "      dtype='object')"
      ]
     },
     "execution_count": 43,
     "metadata": {},
     "output_type": "execute_result"
    }
   ],
   "source": [
    "import pandas as pd\n",
    "flights = pd.read_csv('Vluchten_2013_dataset.csv')\n",
    "NYLA = flights[(flights['origin'] == 'JFK') & (flights['dest'] == 'LAX')]\n",
    "NYLA.columns"
   ]
  },
  {
   "cell_type": "code",
   "execution_count": 44,
   "metadata": {},
   "outputs": [
    {
     "name": "stderr",
     "output_type": "stream",
     "text": [
      "C:\\Users\\samue\\AppData\\Local\\Temp\\ipykernel_41804\\747479951.py:1: SettingWithCopyWarning: \n",
      "A value is trying to be set on a copy of a slice from a DataFrame.\n",
      "Try using .loc[row_indexer,col_indexer] = value instead\n",
      "\n",
      "See the caveats in the documentation: https://pandas.pydata.org/pandas-docs/stable/user_guide/indexing.html#returning-a-view-versus-a-copy\n",
      "  NYLA['date'] = pd.to_datetime(NYLA[['year', 'month', 'day']])\n"
     ]
    }
   ],
   "source": [
    "NYLA['date'] = pd.to_datetime(NYLA[['year', 'month', 'day']])\n",
    "NYLA = NYLA.drop(['id', 'year', 'month', 'day', 'time_hour', 'distance', 'hour', 'minute', 'carrier', 'flight', 'origin', 'dest',], axis=1)\n",
    "cols = ['date'] + [col for col in NYLA if col != 'date']\n",
    "NYLA = NYLA[cols]\n",
    "NYLA = NYLA.sort_values(by='date')\n",
    "NYLA = NYLA.dropna(axis=0)\n",
    "NYLA = NYLA.reset_index()\n",
    "NYLA = NYLA.drop(['index'], axis=1)"
   ]
  },
  {
   "cell_type": "code",
   "execution_count": 45,
   "metadata": {},
   "outputs": [],
   "source": [
    "#function to convert departure and arrival times in floats, to datetime objects\n",
    "\n",
    "def convert_to_time(time_value):\n",
    "    time_value = int(time_value)\n",
    "    \n",
    "    if time_value < 100:  # If it's less than 100, it's only minutes\n",
    "        return f\"00:{time_value:02d}\"\n",
    "    else:\n",
    "        time_str = str(time_value).zfill(4)\n",
    "        hour = int(time_str[:2])\n",
    "        minute = int(time_str[2:])\n",
    "        return f\"{hour:02d}:{minute:02d}\"\n",
    "    \n",
    "    \n",
    "timecolumns = ['dep_time', 'sched_dep_time', 'arr_time', 'sched_arr_time'] \n",
    "\n",
    "for col in timecolumns:\n",
    "    NYLA[col] = NYLA[col].apply(convert_to_time)"
   ]
  },
  {
   "cell_type": "code",
   "execution_count": 52,
   "metadata": {},
   "outputs": [
    {
     "data": {
      "text/html": [
       "<div>\n",
       "<style scoped>\n",
       "    .dataframe tbody tr th:only-of-type {\n",
       "        vertical-align: middle;\n",
       "    }\n",
       "\n",
       "    .dataframe tbody tr th {\n",
       "        vertical-align: top;\n",
       "    }\n",
       "\n",
       "    .dataframe thead th {\n",
       "        text-align: right;\n",
       "    }\n",
       "</style>\n",
       "<table border=\"1\" class=\"dataframe\">\n",
       "  <thead>\n",
       "    <tr style=\"text-align: right;\">\n",
       "      <th></th>\n",
       "      <th>date</th>\n",
       "      <th>dep_time</th>\n",
       "      <th>sched_dep_time</th>\n",
       "      <th>dep_delay</th>\n",
       "      <th>arr_time</th>\n",
       "      <th>sched_arr_time</th>\n",
       "      <th>arr_delay</th>\n",
       "      <th>tailnum</th>\n",
       "      <th>air_time</th>\n",
       "      <th>name</th>\n",
       "    </tr>\n",
       "  </thead>\n",
       "  <tbody>\n",
       "    <tr>\n",
       "      <th>11154</th>\n",
       "      <td>2013-12-31</td>\n",
       "      <td>07:24</td>\n",
       "      <td>07:00</td>\n",
       "      <td>24.0</td>\n",
       "      <td>11:03</td>\n",
       "      <td>10:25</td>\n",
       "      <td>38.0</td>\n",
       "      <td>N627VA</td>\n",
       "      <td>362.0</td>\n",
       "      <td>Virgin America</td>\n",
       "    </tr>\n",
       "    <tr>\n",
       "      <th>11155</th>\n",
       "      <td>2013-12-31</td>\n",
       "      <td>06:59</td>\n",
       "      <td>07:00</td>\n",
       "      <td>-1.0</td>\n",
       "      <td>10:15</td>\n",
       "      <td>10:15</td>\n",
       "      <td>0.0</td>\n",
       "      <td>N768JB</td>\n",
       "      <td>355.0</td>\n",
       "      <td>JetBlue Airways</td>\n",
       "    </tr>\n",
       "    <tr>\n",
       "      <th>11156</th>\n",
       "      <td>2013-12-31</td>\n",
       "      <td>06:30</td>\n",
       "      <td>06:31</td>\n",
       "      <td>-1.0</td>\n",
       "      <td>09:55</td>\n",
       "      <td>09:58</td>\n",
       "      <td>-3.0</td>\n",
       "      <td>N589UA</td>\n",
       "      <td>355.0</td>\n",
       "      <td>United Air Lines Inc.</td>\n",
       "    </tr>\n",
       "    <tr>\n",
       "      <th>11157</th>\n",
       "      <td>2013-12-31</td>\n",
       "      <td>15:31</td>\n",
       "      <td>15:30</td>\n",
       "      <td>1.0</td>\n",
       "      <td>19:18</td>\n",
       "      <td>19:03</td>\n",
       "      <td>15.0</td>\n",
       "      <td>N199DN</td>\n",
       "      <td>363.0</td>\n",
       "      <td>Delta Air Lines Inc.</td>\n",
       "    </tr>\n",
       "    <tr>\n",
       "      <th>11158</th>\n",
       "      <td>2013-12-31</td>\n",
       "      <td>11:32</td>\n",
       "      <td>11:29</td>\n",
       "      <td>3.0</td>\n",
       "      <td>14:48</td>\n",
       "      <td>14:46</td>\n",
       "      <td>2.0</td>\n",
       "      <td>N595UA</td>\n",
       "      <td>346.0</td>\n",
       "      <td>United Air Lines Inc.</td>\n",
       "    </tr>\n",
       "  </tbody>\n",
       "</table>\n",
       "</div>"
      ],
      "text/plain": [
       "            date dep_time sched_dep_time  dep_delay arr_time sched_arr_time  \\\n",
       "11154 2013-12-31    07:24          07:00       24.0    11:03          10:25   \n",
       "11155 2013-12-31    06:59          07:00       -1.0    10:15          10:15   \n",
       "11156 2013-12-31    06:30          06:31       -1.0    09:55          09:58   \n",
       "11157 2013-12-31    15:31          15:30        1.0    19:18          19:03   \n",
       "11158 2013-12-31    11:32          11:29        3.0    14:48          14:46   \n",
       "\n",
       "       arr_delay tailnum  air_time                   name  \n",
       "11154       38.0  N627VA     362.0         Virgin America  \n",
       "11155        0.0  N768JB     355.0        JetBlue Airways  \n",
       "11156       -3.0  N589UA     355.0  United Air Lines Inc.  \n",
       "11157       15.0  N199DN     363.0   Delta Air Lines Inc.  \n",
       "11158        2.0  N595UA     346.0  United Air Lines Inc.  "
      ]
     },
     "execution_count": 52,
     "metadata": {},
     "output_type": "execute_result"
    }
   ],
   "source": [
    "NYLA.tail()"
   ]
  },
  {
   "cell_type": "code",
   "execution_count": 53,
   "metadata": {},
   "outputs": [],
   "source": [
    "NYLA.to_csv('FLIGHT_csv_clean.csv', index=False)"
   ]
  },
  {
   "cell_type": "code",
   "execution_count": null,
   "metadata": {},
   "outputs": [],
   "source": []
  }
 ],
 "metadata": {
  "kernelspec": {
   "display_name": "TIL6022",
   "language": "python",
   "name": "python3"
  },
  "language_info": {
   "codemirror_mode": {
    "name": "ipython",
    "version": 3
   },
   "file_extension": ".py",
   "mimetype": "text/x-python",
   "name": "python",
   "nbconvert_exporter": "python",
   "pygments_lexer": "ipython3",
   "version": "3.12.5"
  }
 },
 "nbformat": 4,
 "nbformat_minor": 2
}
