{
 "cells": [
  {
   "cell_type": "markdown",
   "metadata": {},
   "source": [
    "Data sources and preparation\n",
    "\n",
    "The flight data used in this analysis can be found in the datasets titled ‘arrivals.csv’ and ‘departures.csv’. The original dataset includes flight data for the United States covering the period from January 1, 2013, to September 30, 2013, with a total of approximately 320,000 flights. For the specific research question, only data for flights between New York's John F. Kennedy International Airport (JFK) and Los Angeles International Airport (LAX) were selected and divided into two sets (approximately 11.000 flights).\n",
    "\n",
    "After filtering the dataset to focus on these specific flights, the resulting data frame was exported to a new CSV file, which will serve as the primary flight data source. The columns included in this CSV file are as follows:\n",
    "date\n",
    "dep_time\n",
    "sched_dep_time\n",
    "sched_dep_time (modified) (this was an extra step to link time to weather events)\n",
    "dep_delay\n",
    "arr_time\n",
    "sched_arr_time\n",
    "sched_arr_time (modified) (this was an extra step to link time to weather events)\n",
    "arr_delay\n",
    "tailnum\n",
    "air_time\n",
    "name\n",
    "\n",
    "For the actual analysis, some of these columns will be filtered out to focus on the most relevant data points.\n",
    "\n",
    "To answer the second sub-question, the research group analysed a combination of flight data and weather variables for flights between JFK and LAX. The most important flight data used includes metrics such as departure delay, arrival delay, actual departure time, and scheduled departure time. These metrics are crucial to measure how much a flight was delayed, either at departure or arrival, and help pinpoint whether delays are more common at one stage or another.\n",
    "The weather conditions examined and used in this analysis include:\n",
    "Precipitation: Rainfall, especially when it accumulates quickly, affects runway conditions and visibility, leading to more frequent delays. (Wu et al., 2022)\n",
    "Wind speed and wind gusts: High wind speeds, especially gusts, are known to cause delays, particularly during takeoff and landing. \n",
    "Visibility: Low visibility due to fog or heavy rain can slow down airport operations, particularly in important phases like landing and takeoff. “The NASDAC study of NTSB statistics indicated that ceiling and visibility were cited as contributing factors in 24 percent of all general aviation accidents between 1989 and early 1997.” (Kulesa, 2003, p. 3)\n",
    "Sky level coverage: Cloud cover, particularly thick or low clouds, influences flight schedules. Heavier cloud cover increases the chance of delays because pilots and air traffic control need to adjust flight plans accordingly.\n",
    "Pressure altimeter: Changes in atmospheric pressure, especially during severe weather, can contribute to delays. Low-pressure systems are often associated with storms, which can slow down flight operations.\n",
    "“The indicator itself is a specific value composed by different inputs coming from each of the categories of the METAR report: 1) wind speed, 2) shear wind conditions, 3) visibility, 4) meteorological phenomena and 5) cloudiness.” (These come out of the report as the most influential variables for delays in flights) (Rodríguez-Sanz et al., 2021, p.5).\n",
    "\n",
    "Sources\n",
    "Wu, Y., Mei, G., & Shao, K. (2022). Revealing influence of meteorological conditions and flight factors on delays Using XGBoost. Journal Of Computational Mathematics And Data Science, 3, 100030. https://doi.org/10.1016/j.jcmds.2022.100030 \n",
    "Kulesa, G. (2003). WEATHER AND AVIATION: HOW DOES WEATHER AFFECT THE SAFETY AND OPERATIONS OF AIRPORTS AND AVIATION, AND HOW DOES FAA WORK TO MANAGE WEATHER-RELATED EFFECTS? http://www.climate.dot.gov/documents/workshop1002/kulesa.pdf \n",
    "Rodríguez-Sanz, Á., Cano, J., & Fernández, B. R. (2021). Impact of weather conditions on airport arrival delay and throughput. Aircraft Engineering And Aerospace Technology, 94(1), 60–78. https://doi.org/10.1108/aeat-12-2020-0318 \n"
   ]
  }
 ],
 "metadata": {
  "kernelspec": {
   "display_name": "TIL6022",
   "language": "python",
   "name": "python3"
  },
  "language_info": {
   "codemirror_mode": {
    "name": "ipython",
    "version": 3
   },
   "file_extension": ".py",
   "mimetype": "text/x-python",
   "name": "python",
   "nbconvert_exporter": "python",
   "pygments_lexer": "ipython3",
   "version": "3.12.5"
  }
 },
 "nbformat": 4,
 "nbformat_minor": 2
}
