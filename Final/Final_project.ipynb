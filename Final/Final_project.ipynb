{
 "cells": [
  {
   "cell_type": "code",
   "execution_count": null,
   "id": "243bd3fe-8c72-4b45-b879-4bbadcc3b3f5",
   "metadata": {},
   "outputs": [],
   "source": []
  },
  {
   "cell_type": "markdown",
   "id": "07852c28-9cb0-4eec-9d2b-39a1ec0df892",
   "metadata": {},
   "source": [
    "# **A stormy flight: Investigating the correlation between weather patterns and delays on the JFK-LAX route**"
   ]
  },
  {
   "cell_type": "markdown",
   "id": "3be713ee-6bdf-4f7f-b7f3-74d7c710c7ed",
   "metadata": {},
   "source": [
    "## Project Group - 2\n",
    "\n",
    "**Members:** Nynke Leppink, Alexander du Marchie Sarvaas, Samuel du Marchie Sarvaas, Sanne van Proosdij, Emma Toet\n",
    "\n",
    "**Student numbers:** 5070988, 5547156, 4802829, 5326990, 4849892"
   ]
  },
  {
   "cell_type": "markdown",
   "id": "79ad0800-981e-457a-8f71-c66dd14be435",
   "metadata": {},
   "source": [
    "### **Contribution Statement**\n",
    "- ...\n",
    "- ...\n",
    "- ...\n",
    "- ...\n",
    "- ... "
   ]
  },
  {
   "cell_type": "markdown",
   "id": "77987792-c05c-494b-ab7d-5c4b6890214a",
   "metadata": {},
   "source": [
    "### **Introduction**\n",
    "\n",
    "Flight delays are a common source of irritation for many travellers. Factors such as weather and technical issues frequently cause these disruptions. Additionally, the growing impact of climate change is leading to more extreme weather patterns, which could further contribute to disruptions in air travel. For frequent flyers, dealing with delays has become an unfortunate norm. This report will explore flight delays on the route between John F. Kennedy International Airport (JFK) and Los Angeles International Airport (LAX), which is one of the busiest air routes in the world, with over 150 flights per week. LAX ranks among the top ten busiest airports globally [2]. The report will examine how weather conditions at JFK and LAX impact flight delays on this route.\n",
    "\n",
    "### **Research objective**\n",
    "For this research the following question will be answered: ***\"How do weather conditions at JFK (New York) and LAX (Los Angeles) affect flight delays on this flight route?\"***\n",
    "\n",
    "To answer this question a dataset of flight information from the year 2013 will be used [3]. This dataset contains flight information of different flight routes in the United States. This research focuses on the flight route between John F. Kennedy International Airport (JFK) in New York and Los Angeles International Airport (LAX). The information in this dataset can be used to analyse the departure and arrival delays of these airports. For the weather conditions at JFK and LAX the weather information of Iowa Environmental Mesonet will be used [4]. On this website different weather variables are available and will be combined in one dataset. \n",
    "\n",
    "### **Sub questions**\n",
    "1. Which specific weather conditions most significantly impact flight delays on the JFK-LAX route?\n",
    "2. Which specific flight and weather data is relevant for our research? (actual delay etc). \n",
    "3. What is the relationship between the chosen (severe) weather patterns and the duration and occurence of flight delays? (arrival)\n",
    "4. What is the relationship between the chosen (severe) weather patterns and the duration and occurence of flight delays? (departure)\n",
    "5. How can we combine the different correlations of the weather data and look at the total effect on flight delays?"
   ]
  },
  {
   "cell_type": "markdown",
   "id": "ee84ef33-74b0-4f64-9a00-1d288633daa2",
   "metadata": {},
   "source": [
    "### **Conditions and restrains**\n",
    "\n",
    "In this study, there are several constraints that influence the analysis and findings. The weather conditions include a variety of elements that are important to understand flight operations. The study will consider factors such as visibility, wind speed and wind gust, sky level coverage, precipitation and pressure altimeter. \n",
    "\n",
    "The to-be-used datasat has five airlines operating this route: **United Airlines Inc., Virgin America, JetBlue Airways, American Airlines Inc., and Delta Air Lines Inc.** By investigating the performance of these airlines, the aim is to identify trends and correlations between weather conditions and flight operations. This will enable a better understanding of how various factors impact delays throughout the year.\n",
    "The temporal scope of the study covers the year 2013, which provides a big dataset for analysis. The dataset (consisting of more than 11.000 flights) has flights at an hourly level, monitoring approximately 30 flights each day. \n",
    "Geographically, the analysis will concentrate on the route between two major international airports: John F. Kennedy International Airport (JFK) in New York and Los Angeles International Airport (LAX). By focusing on these key locations, the weather conditions specific to each airport will be explored.\n",
    "\n",
    "### **Data sources and preparation**\n",
    "\n",
    "The flight data used in this analysis can be found in the datasets titled ‘arrivals.csv’ and ‘departures.csv’. The original dataset includes flight data for the United States covering the period from January 1, 2013, to September 30, 2013, with a total of approximately 320,000 flights. For the specific research question, only data for flights between New York's John F. Kennedy International Airport (JFK) and Los Angeles International Airport (LAX) were selected and divided into two sets (approximately 11.000 flights).\n",
    "After filtering the dataset to focus on these specific flights, the resulting data frame was exported to a new CSV file, which will serve as the primary flight data source. The columns included in this CSV file are as follows:\n",
    "- date\n",
    "- dep_time\n",
    "- sched_dep_time\n",
    "- sched_dep_time (modified) (this was an extra step to link time to weather events)\n",
    "- dep_delay\n",
    "- arr_time\n",
    "- sched_arr_time\n",
    "- sched_arr_time (modified) (this was an extra step to link time to weather events)\n",
    "- arr_delay\n",
    "- tailnum\n",
    "- air_time\n",
    "- name\n",
    "\n",
    "For the actual analysis, some of these columns will be filtered out to focus on the most relevant data points.\n"
   ]
  },
  {
   "cell_type": "markdown",
   "id": "e79affd9-bc39-464e-94d1-d1ea304937f7",
   "metadata": {},
   "source": [
    "### **Literature study**\n",
    "[1] Transport free icon\n",
    "https://www.flaticon.com/free-icon/transport_15226809?term=airplane&page=1&position=2&origin=search&related_id=15226809 \n",
    "\n",
    "[2] The top ten busiest airports in the world\n",
    "https://www.airport-technology.com/features/the-top-10-busiest-airports-in-the-world/\n",
    "\n",
    "### **Data Used**\n",
    "[3] Iowa State University Iowa Environmental Mesonet\n",
    "https://www.kaggle.com/datasets/mahoora00135/flights?resource=download   \n",
    "\n",
    "[4] Flights: A report to analyze the performance of airlines in 2013\n",
    "https://mesonet.agron.iastate.edu/request/download.phtml?network=NY_ASOS# "
   ]
  },
  {
   "cell_type": "code",
   "execution_count": null,
   "id": "034e3ab7-3e55-4cca-9e69-4fb54d290113",
   "metadata": {},
   "outputs": [],
   "source": []
  }
 ],
 "metadata": {
  "kernelspec": {
   "display_name": "Python 3 (ipykernel)",
   "language": "python",
   "name": "python3"
  },
  "language_info": {
   "codemirror_mode": {
    "name": "ipython",
    "version": 3
   },
   "file_extension": ".py",
   "mimetype": "text/x-python",
   "name": "python",
   "nbconvert_exporter": "python",
   "pygments_lexer": "ipython3",
   "version": "3.9.7"
  }
 },
 "nbformat": 4,
 "nbformat_minor": 5
}
